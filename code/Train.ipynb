{
 "cells": [
  {
   "cell_type": "markdown",
   "metadata": {},
   "source": [
    "#### *Bringing all necessary libraries*"
   ]
  },
  {
   "cell_type": "code",
   "execution_count": 1,
   "metadata": {},
   "outputs": [],
   "source": [
    "from __future__ import print_function, division\n",
    "\n",
    "import torch\n",
    "import argparse\n",
    "import json \n",
    "import torch.nn as nn\n",
    "import torch.optim as optim\n",
    "from torch.optim import lr_scheduler\n",
    "import numpy as np\n",
    "import torchvision\n",
    "from torchvision import datasets, models, transforms\n",
    "from functools import partial \n",
    "import time\n",
    "import os\n",
    "import random\n",
    "import copy\n",
    "import pdb \n",
    "from tqdm import tqdm\n",
    "from _utils import accuracy"
   ]
  },
  {
   "cell_type": "markdown",
   "metadata": {},
   "source": [
    "#### *Applying Horizontal Flip to data as augmentation technique*"
   ]
  },
  {
   "cell_type": "code",
   "execution_count": 2,
   "metadata": {},
   "outputs": [],
   "source": [
    "def transfrom_data():\n",
    "    data_transforms = {\n",
    "    'train': transforms.Compose([\n",
    "        transforms.RandomHorizontalFlip(),\n",
    "        transforms.ToTensor(), \n",
    "        transforms.Normalize(mean=[0.485, 0.456, 0.406],\n",
    "                            std=[0.229, 0.224, 0.225])\n",
    "        ]),\n",
    "    'valid': transforms.Compose([\n",
    "        transforms.ToTensor(), \n",
    "        transforms.Normalize(mean=[0.485, 0.456, 0.406],\n",
    "                            std=[0.229, 0.224, 0.225])\n",
    "        ])\n",
    "    }\n",
    "\n",
    "    return data_transforms"
   ]
  },
  {
   "cell_type": "markdown",
   "metadata": {},
   "source": [
    "#### *Loading data by batches*"
   ]
  },
  {
   "cell_type": "code",
   "execution_count": 3,
   "metadata": {},
   "outputs": [],
   "source": [
    "def load_data(batch_size, num_workers):\n",
    "    print(\"Start loading data\")\n",
    "    data_dir = '../data'\n",
    "    image_datasets = {x: datasets.ImageFolder(os.path.join(data_dir, x), transfrom_data()[x]) for x in ['train', 'valid']}\n",
    "    dataloaders = {x: torch.utils.data.DataLoader(image_datasets[x], batch_size=batch_size, shuffle=True, num_workers=num_workers) \\\n",
    "                    for x in ['train', 'valid']}\n",
    "    class_names = image_datasets['train'].classes\n",
    "    dataset_sizes = {x: len(image_datasets[x]) for x in ['train', 'valid']}\n",
    "    print(\"Dataset sizes: Train {} Val {}\".format(dataset_sizes['train'], dataset_sizes['valid']))\n",
    "    print(\"Number of classes: Train {} Val {}\".format(len(image_datasets['train'].classes), len(image_datasets['valid'].classes)))\n",
    "\n",
    "    return dataloaders, class_names, dataset_sizes"
   ]
  },
  {
   "cell_type": "markdown",
   "metadata": {},
   "source": [
    "#### *Loading the model with adjusting number of classes to 196 for pretrained ImageNet model*"
   ]
  },
  {
   "cell_type": "code",
   "execution_count": 4,
   "metadata": {},
   "outputs": [],
   "source": [
    "def load_model(class_names):\n",
    "    model = models.densenet161(pretrained=True)\n",
    "    num_ftrs = model.classifier.in_features\n",
    "    model.classifier = nn.Linear(num_ftrs, len(class_names))\n",
    "\n",
    "    model = torch.nn.DataParallel(model.cuda(), device_ids=[0])\n",
    "\n",
    "    return model"
   ]
  },
  {
   "cell_type": "markdown",
   "metadata": {},
   "source": [
    "#### *Training the model*"
   ]
  },
  {
   "cell_type": "code",
   "execution_count": 5,
   "metadata": {
    "scrolled": false
   },
   "outputs": [
    {
     "name": "stdout",
     "output_type": "stream",
     "text": [
      "Start loading data\n",
      "Dataset sizes: Train 13030 Val 1629\n",
      "Number of classes: Train 196 Val 196\n"
     ]
    },
    {
     "name": "stderr",
     "output_type": "stream",
     "text": [
      "Epoch 0/29, Split train: 100% 815/815 [06:41<00:00,  2.36it/s]\n"
     ]
    },
    {
     "name": "stdout",
     "output_type": "stream",
     "text": [
      "train Epoch Loss: 3.458291 Epoch top1 Acc: 0.400614 Epoch top5 Acc: 0.647659\n",
      "\n"
     ]
    },
    {
     "name": "stderr",
     "output_type": "stream",
     "text": [
      "Epoch 0/29, Split valid: 100% 102/102 [00:21<00:00,  7.18it/s]\n"
     ]
    },
    {
     "name": "stdout",
     "output_type": "stream",
     "text": [
      "valid Epoch Loss: 2.028569 Epoch top1 Acc: 0.650092 Epoch top5 Acc: 0.918355\n",
      "\n",
      "Top1 val Acc improve from 0.000000 --> 0.650092\n",
      "Saving best val model into ./outputs/best_val_model.ft...\n",
      "\n"
     ]
    },
    {
     "name": "stderr",
     "output_type": "stream",
     "text": [
      "Epoch 1/29, Split train: 100% 815/815 [06:38<00:00,  2.47it/s]\n"
     ]
    },
    {
     "name": "stdout",
     "output_type": "stream",
     "text": [
      "train Epoch Loss: 1.381609 Epoch top1 Acc: 0.857252 Epoch top5 Acc: 0.982272\n",
      "\n"
     ]
    },
    {
     "name": "stderr",
     "output_type": "stream",
     "text": [
      "Epoch 1/29, Split valid: 100% 102/102 [00:21<00:00,  7.28it/s]\n"
     ]
    },
    {
     "name": "stdout",
     "output_type": "stream",
     "text": [
      "valid Epoch Loss: 0.998964 Epoch top1 Acc: 0.829343 Epoch top5 Acc: 0.974831\n",
      "\n",
      "Top1 val Acc improve from 0.650092 --> 0.829343\n",
      "Saving best val model into ./outputs/best_val_model.ft...\n",
      "\n"
     ]
    },
    {
     "name": "stderr",
     "output_type": "stream",
     "text": [
      "Epoch 2/29, Split train: 100% 815/815 [06:38<00:00,  2.34it/s]\n"
     ]
    },
    {
     "name": "stdout",
     "output_type": "stream",
     "text": [
      "train Epoch Loss: 0.622045 Epoch top1 Acc: 0.955334 Epoch top5 Acc: 0.998619\n",
      "\n"
     ]
    },
    {
     "name": "stderr",
     "output_type": "stream",
     "text": [
      "Epoch 2/29, Split valid: 100% 102/102 [00:21<00:00,  7.24it/s]\n"
     ]
    },
    {
     "name": "stdout",
     "output_type": "stream",
     "text": [
      "valid Epoch Loss: 0.673808 Epoch top1 Acc: 0.875384 Epoch top5 Acc: 0.980970\n",
      "\n",
      "Top1 val Acc improve from 0.829343 --> 0.875384\n",
      "Saving best val model into ./outputs/best_val_model.ft...\n",
      "\n"
     ]
    },
    {
     "name": "stderr",
     "output_type": "stream",
     "text": [
      "Epoch 3/29, Split train: 100% 815/815 [06:28<00:00,  2.50it/s]\n"
     ]
    },
    {
     "name": "stdout",
     "output_type": "stream",
     "text": [
      "train Epoch Loss: 0.318976 Epoch top1 Acc: 0.983193 Epoch top5 Acc: 0.999923\n",
      "\n"
     ]
    },
    {
     "name": "stderr",
     "output_type": "stream",
     "text": [
      "Epoch 3/29, Split valid: 100% 102/102 [00:21<00:00,  7.57it/s]\n"
     ]
    },
    {
     "name": "stdout",
     "output_type": "stream",
     "text": [
      "valid Epoch Loss: 0.521982 Epoch top1 Acc: 0.883978 Epoch top5 Acc: 0.983425\n",
      "\n",
      "Top1 val Acc improve from 0.875384 --> 0.883978\n",
      "Saving best val model into ./outputs/best_val_model.ft...\n",
      "\n"
     ]
    },
    {
     "name": "stderr",
     "output_type": "stream",
     "text": [
      "Epoch 4/29, Split train: 100% 815/815 [06:26<00:00,  2.42it/s]\n"
     ]
    },
    {
     "name": "stdout",
     "output_type": "stream",
     "text": [
      "train Epoch Loss: 0.187928 Epoch top1 Acc: 0.993170 Epoch top5 Acc: 1.000000\n",
      "\n"
     ]
    },
    {
     "name": "stderr",
     "output_type": "stream",
     "text": [
      "Epoch 4/29, Split valid: 100% 102/102 [00:21<00:00,  7.58it/s]\n"
     ]
    },
    {
     "name": "stdout",
     "output_type": "stream",
     "text": [
      "valid Epoch Loss: 0.473889 Epoch top1 Acc: 0.889503 Epoch top5 Acc: 0.984039\n",
      "\n",
      "Top1 val Acc improve from 0.883978 --> 0.889503\n",
      "Saving best val model into ./outputs/best_val_model.ft...\n",
      "\n"
     ]
    },
    {
     "name": "stderr",
     "output_type": "stream",
     "text": [
      "Epoch 5/29, Split train: 100% 815/815 [06:28<00:00,  2.48it/s]\n"
     ]
    },
    {
     "name": "stdout",
     "output_type": "stream",
     "text": [
      "train Epoch Loss: 0.125206 Epoch top1 Acc: 0.995472 Epoch top5 Acc: 1.000000\n",
      "\n"
     ]
    },
    {
     "name": "stderr",
     "output_type": "stream",
     "text": [
      "Epoch 5/29, Split valid: 100% 102/102 [00:21<00:00,  7.53it/s]\n"
     ]
    },
    {
     "name": "stdout",
     "output_type": "stream",
     "text": [
      "valid Epoch Loss: 0.441414 Epoch top1 Acc: 0.899939 Epoch top5 Acc: 0.984653\n",
      "\n",
      "Top1 val Acc improve from 0.889503 --> 0.899939\n",
      "Saving best val model into ./outputs/best_val_model.ft...\n",
      "\n"
     ]
    },
    {
     "name": "stderr",
     "output_type": "stream",
     "text": [
      "Epoch 6/29, Split train: 100% 815/815 [06:26<00:00,  2.52it/s]\n"
     ]
    },
    {
     "name": "stdout",
     "output_type": "stream",
     "text": [
      "train Epoch Loss: 0.090797 Epoch top1 Acc: 0.997314 Epoch top5 Acc: 1.000000\n",
      "\n"
     ]
    },
    {
     "name": "stderr",
     "output_type": "stream",
     "text": [
      "Epoch 6/29, Split valid: 100% 102/102 [00:21<00:00,  7.54it/s]\n"
     ]
    },
    {
     "name": "stdout",
     "output_type": "stream",
     "text": [
      "valid Epoch Loss: 0.444340 Epoch top1 Acc: 0.897483 Epoch top5 Acc: 0.984039\n",
      "\n",
      "\n"
     ]
    },
    {
     "name": "stderr",
     "output_type": "stream",
     "text": [
      "Epoch 7/29, Split train: 100% 815/815 [06:26<00:00,  2.53it/s]\n"
     ]
    },
    {
     "name": "stdout",
     "output_type": "stream",
     "text": [
      "train Epoch Loss: 0.070640 Epoch top1 Acc: 0.996930 Epoch top5 Acc: 1.000000\n",
      "\n"
     ]
    },
    {
     "name": "stderr",
     "output_type": "stream",
     "text": [
      "Epoch 7/29, Split valid: 100% 102/102 [00:21<00:00,  7.56it/s]\n"
     ]
    },
    {
     "name": "stdout",
     "output_type": "stream",
     "text": [
      "valid Epoch Loss: 0.422860 Epoch top1 Acc: 0.899325 Epoch top5 Acc: 0.985267\n",
      "\n",
      "\n"
     ]
    },
    {
     "name": "stderr",
     "output_type": "stream",
     "text": [
      "Epoch 8/29, Split train: 100% 815/815 [06:26<00:00,  2.53it/s]\n"
     ]
    },
    {
     "name": "stdout",
     "output_type": "stream",
     "text": [
      "train Epoch Loss: 0.055088 Epoch top1 Acc: 0.998081 Epoch top5 Acc: 1.000000\n",
      "\n"
     ]
    },
    {
     "name": "stderr",
     "output_type": "stream",
     "text": [
      "Epoch 8/29, Split valid: 100% 102/102 [00:21<00:00,  7.58it/s]\n"
     ]
    },
    {
     "name": "stdout",
     "output_type": "stream",
     "text": [
      "valid Epoch Loss: 0.423090 Epoch top1 Acc: 0.899325 Epoch top5 Acc: 0.985881\n",
      "\n",
      "\n"
     ]
    },
    {
     "name": "stderr",
     "output_type": "stream",
     "text": [
      "Epoch 9/29, Split train: 100% 815/815 [06:26<00:00,  2.51it/s]\n"
     ]
    },
    {
     "name": "stdout",
     "output_type": "stream",
     "text": [
      "train Epoch Loss: 0.046306 Epoch top1 Acc: 0.998542 Epoch top5 Acc: 1.000000\n",
      "\n"
     ]
    },
    {
     "name": "stderr",
     "output_type": "stream",
     "text": [
      "Epoch 9/29, Split valid: 100% 102/102 [00:21<00:00,  7.55it/s]\n"
     ]
    },
    {
     "name": "stdout",
     "output_type": "stream",
     "text": [
      "valid Epoch Loss: 0.415885 Epoch top1 Acc: 0.901166 Epoch top5 Acc: 0.985267\n",
      "\n",
      "Top1 val Acc improve from 0.899939 --> 0.901166\n",
      "Saving best val model into ./outputs/best_val_model.ft...\n",
      "\n"
     ]
    },
    {
     "name": "stderr",
     "output_type": "stream",
     "text": [
      "Epoch 10/29, Split train: 100% 815/815 [06:26<00:00,  2.57it/s]\n"
     ]
    },
    {
     "name": "stdout",
     "output_type": "stream",
     "text": [
      "train Epoch Loss: 0.039452 Epoch top1 Acc: 0.998772 Epoch top5 Acc: 1.000000\n",
      "\n"
     ]
    },
    {
     "name": "stderr",
     "output_type": "stream",
     "text": [
      "Epoch 10/29, Split valid: 100% 102/102 [00:21<00:00,  7.45it/s]\n"
     ]
    },
    {
     "name": "stdout",
     "output_type": "stream",
     "text": [
      "valid Epoch Loss: 0.428060 Epoch top1 Acc: 0.897483 Epoch top5 Acc: 0.984039\n",
      "\n",
      "\n"
     ]
    },
    {
     "name": "stderr",
     "output_type": "stream",
     "text": [
      "Epoch 11/29, Split train: 100% 815/815 [06:26<00:00,  2.56it/s]\n"
     ]
    },
    {
     "name": "stdout",
     "output_type": "stream",
     "text": [
      "train Epoch Loss: 0.035966 Epoch top1 Acc: 0.998388 Epoch top5 Acc: 1.000000\n",
      "\n"
     ]
    },
    {
     "name": "stderr",
     "output_type": "stream",
     "text": [
      "Epoch 11/29, Split valid: 100% 102/102 [00:21<00:00,  7.58it/s]\n"
     ]
    },
    {
     "name": "stdout",
     "output_type": "stream",
     "text": [
      "valid Epoch Loss: 0.409589 Epoch top1 Acc: 0.903622 Epoch top5 Acc: 0.984653\n",
      "\n",
      "Top1 val Acc improve from 0.901166 --> 0.903622\n",
      "Saving best val model into ./outputs/best_val_model.ft...\n",
      "\n"
     ]
    },
    {
     "name": "stderr",
     "output_type": "stream",
     "text": [
      "Epoch 12/29, Split train: 100% 815/815 [06:27<00:00,  2.50it/s]\n"
     ]
    },
    {
     "name": "stdout",
     "output_type": "stream",
     "text": [
      "train Epoch Loss: 0.032505 Epoch top1 Acc: 0.998081 Epoch top5 Acc: 1.000000\n",
      "\n"
     ]
    },
    {
     "name": "stderr",
     "output_type": "stream",
     "text": [
      "Epoch 12/29, Split valid: 100% 102/102 [00:21<00:00,  7.51it/s]\n"
     ]
    },
    {
     "name": "stdout",
     "output_type": "stream",
     "text": [
      "valid Epoch Loss: 0.448160 Epoch top1 Acc: 0.893800 Epoch top5 Acc: 0.984039\n",
      "\n",
      "\n"
     ]
    },
    {
     "name": "stderr",
     "output_type": "stream",
     "text": [
      "Epoch 13/29, Split train: 100% 815/815 [06:26<00:00,  2.49it/s]\n"
     ]
    },
    {
     "name": "stdout",
     "output_type": "stream",
     "text": [
      "train Epoch Loss: 0.028199 Epoch top1 Acc: 0.998542 Epoch top5 Acc: 1.000000\n",
      "\n"
     ]
    },
    {
     "name": "stderr",
     "output_type": "stream",
     "text": [
      "Epoch 13/29, Split valid: 100% 102/102 [00:21<00:00,  7.56it/s]\n"
     ]
    },
    {
     "name": "stdout",
     "output_type": "stream",
     "text": [
      "valid Epoch Loss: 0.417437 Epoch top1 Acc: 0.902394 Epoch top5 Acc: 0.983425\n",
      "\n",
      "\n"
     ]
    },
    {
     "name": "stderr",
     "output_type": "stream",
     "text": [
      "Epoch 14/29, Split train: 100% 815/815 [06:26<00:00,  2.55it/s]\n"
     ]
    },
    {
     "name": "stdout",
     "output_type": "stream",
     "text": [
      "train Epoch Loss: 0.025303 Epoch top1 Acc: 0.998542 Epoch top5 Acc: 1.000000\n",
      "\n"
     ]
    },
    {
     "name": "stderr",
     "output_type": "stream",
     "text": [
      "Epoch 14/29, Split valid: 100% 102/102 [00:21<00:00,  7.55it/s]\n"
     ]
    },
    {
     "name": "stdout",
     "output_type": "stream",
     "text": [
      "valid Epoch Loss: 0.406638 Epoch top1 Acc: 0.904850 Epoch top5 Acc: 0.985267\n",
      "\n",
      "Top1 val Acc improve from 0.903622 --> 0.904850\n",
      "Saving best val model into ./outputs/best_val_model.ft...\n",
      "\n"
     ]
    },
    {
     "name": "stderr",
     "output_type": "stream",
     "text": [
      "Epoch 15/29, Split train: 100% 815/815 [06:26<00:00,  2.56it/s]\n"
     ]
    },
    {
     "name": "stdout",
     "output_type": "stream",
     "text": [
      "train Epoch Loss: 0.023290 Epoch top1 Acc: 0.998465 Epoch top5 Acc: 1.000000\n",
      "\n"
     ]
    },
    {
     "name": "stderr",
     "output_type": "stream",
     "text": [
      "Epoch 15/29, Split valid: 100% 102/102 [00:21<00:00,  7.58it/s]\n"
     ]
    },
    {
     "name": "stdout",
     "output_type": "stream",
     "text": [
      "valid Epoch Loss: 0.419332 Epoch top1 Acc: 0.899325 Epoch top5 Acc: 0.984039\n",
      "\n",
      "\n"
     ]
    },
    {
     "name": "stderr",
     "output_type": "stream",
     "text": [
      "Epoch 16/29, Split train: 100% 815/815 [06:26<00:00,  2.49it/s]\n"
     ]
    },
    {
     "name": "stdout",
     "output_type": "stream",
     "text": [
      "train Epoch Loss: 0.022533 Epoch top1 Acc: 0.998235 Epoch top5 Acc: 1.000000\n",
      "\n"
     ]
    },
    {
     "name": "stderr",
     "output_type": "stream",
     "text": [
      "Epoch 16/29, Split valid: 100% 102/102 [00:21<00:00,  7.50it/s]\n"
     ]
    },
    {
     "name": "stdout",
     "output_type": "stream",
     "text": [
      "valid Epoch Loss: 0.418014 Epoch top1 Acc: 0.901166 Epoch top5 Acc: 0.986495\n",
      "\n",
      "\n"
     ]
    },
    {
     "name": "stderr",
     "output_type": "stream",
     "text": [
      "Epoch 17/29, Split train: 100% 815/815 [06:24<00:00,  2.47it/s]\n"
     ]
    },
    {
     "name": "stdout",
     "output_type": "stream",
     "text": [
      "train Epoch Loss: 0.020282 Epoch top1 Acc: 0.998542 Epoch top5 Acc: 1.000000\n",
      "\n"
     ]
    },
    {
     "name": "stderr",
     "output_type": "stream",
     "text": [
      "Epoch 17/29, Split valid: 100% 102/102 [00:21<00:00,  7.46it/s]\n"
     ]
    },
    {
     "name": "stdout",
     "output_type": "stream",
     "text": [
      "valid Epoch Loss: 0.420059 Epoch top1 Acc: 0.903008 Epoch top5 Acc: 0.986495\n",
      "\n",
      "\n"
     ]
    },
    {
     "name": "stderr",
     "output_type": "stream",
     "text": [
      "Epoch 18/29, Split train: 100% 815/815 [06:27<00:00,  2.43it/s]\n"
     ]
    },
    {
     "name": "stdout",
     "output_type": "stream",
     "text": [
      "train Epoch Loss: 0.019197 Epoch top1 Acc: 0.998005 Epoch top5 Acc: 1.000000\n",
      "\n"
     ]
    },
    {
     "name": "stderr",
     "output_type": "stream",
     "text": [
      "Epoch 18/29, Split valid: 100% 102/102 [00:21<00:00,  7.36it/s]\n"
     ]
    },
    {
     "name": "stdout",
     "output_type": "stream",
     "text": [
      "valid Epoch Loss: 0.418964 Epoch top1 Acc: 0.899939 Epoch top5 Acc: 0.986495\n",
      "\n",
      "\n"
     ]
    },
    {
     "name": "stderr",
     "output_type": "stream",
     "text": [
      "Epoch 19/29, Split train: 100% 815/815 [06:26<00:00,  2.50it/s]\n"
     ]
    },
    {
     "name": "stdout",
     "output_type": "stream",
     "text": [
      "train Epoch Loss: 0.017397 Epoch top1 Acc: 0.998542 Epoch top5 Acc: 1.000000\n",
      "\n"
     ]
    },
    {
     "name": "stderr",
     "output_type": "stream",
     "text": [
      "Epoch 19/29, Split valid: 100% 102/102 [00:21<00:00,  7.61it/s]\n"
     ]
    },
    {
     "name": "stdout",
     "output_type": "stream",
     "text": [
      "valid Epoch Loss: 0.420033 Epoch top1 Acc: 0.904850 Epoch top5 Acc: 0.985267\n",
      "\n",
      "\n"
     ]
    },
    {
     "name": "stderr",
     "output_type": "stream",
     "text": [
      "Epoch 20/29, Split train: 100% 815/815 [06:25<00:00,  2.46it/s]\n"
     ]
    },
    {
     "name": "stdout",
     "output_type": "stream",
     "text": [
      "train Epoch Loss: 0.016153 Epoch top1 Acc: 0.999079 Epoch top5 Acc: 1.000000\n",
      "\n"
     ]
    },
    {
     "name": "stderr",
     "output_type": "stream",
     "text": [
      "Epoch 20/29, Split valid: 100% 102/102 [00:21<00:00,  7.56it/s]\n"
     ]
    },
    {
     "name": "stdout",
     "output_type": "stream",
     "text": [
      "valid Epoch Loss: 0.423241 Epoch top1 Acc: 0.903008 Epoch top5 Acc: 0.984653\n",
      "\n",
      "\n"
     ]
    },
    {
     "name": "stderr",
     "output_type": "stream",
     "text": [
      "Epoch 21/29, Split train: 100% 815/815 [06:26<00:00,  2.52it/s]\n"
     ]
    },
    {
     "name": "stdout",
     "output_type": "stream",
     "text": [
      "train Epoch Loss: 0.015925 Epoch top1 Acc: 0.998619 Epoch top5 Acc: 1.000000\n",
      "\n"
     ]
    },
    {
     "name": "stderr",
     "output_type": "stream",
     "text": [
      "Epoch 21/29, Split valid: 100% 102/102 [00:21<00:00,  7.55it/s]\n"
     ]
    },
    {
     "name": "stdout",
     "output_type": "stream",
     "text": [
      "valid Epoch Loss: 0.420825 Epoch top1 Acc: 0.900552 Epoch top5 Acc: 0.985881\n",
      "\n",
      "\n"
     ]
    },
    {
     "name": "stderr",
     "output_type": "stream",
     "text": [
      "Epoch 22/29, Split train: 100% 815/815 [06:25<00:00,  2.42it/s]\n"
     ]
    },
    {
     "name": "stdout",
     "output_type": "stream",
     "text": [
      "train Epoch Loss: 0.016457 Epoch top1 Acc: 0.998542 Epoch top5 Acc: 1.000000\n",
      "\n"
     ]
    },
    {
     "name": "stderr",
     "output_type": "stream",
     "text": [
      "Epoch 22/29, Split valid: 100% 102/102 [00:21<00:00,  7.41it/s]\n"
     ]
    },
    {
     "name": "stdout",
     "output_type": "stream",
     "text": [
      "valid Epoch Loss: 0.423582 Epoch top1 Acc: 0.906691 Epoch top5 Acc: 0.984653\n",
      "\n",
      "Top1 val Acc improve from 0.904850 --> 0.906691\n",
      "Saving best val model into ./outputs/best_val_model.ft...\n",
      "\n"
     ]
    },
    {
     "name": "stderr",
     "output_type": "stream",
     "text": [
      "Epoch 23/29, Split train: 100% 815/815 [06:27<00:00,  2.46it/s]\n"
     ]
    },
    {
     "name": "stdout",
     "output_type": "stream",
     "text": [
      "train Epoch Loss: 0.015015 Epoch top1 Acc: 0.998849 Epoch top5 Acc: 1.000000\n",
      "\n"
     ]
    },
    {
     "name": "stderr",
     "output_type": "stream",
     "text": [
      "Epoch 23/29, Split valid: 100% 102/102 [00:21<00:00,  7.39it/s]\n"
     ]
    },
    {
     "name": "stdout",
     "output_type": "stream",
     "text": [
      "valid Epoch Loss: 0.420292 Epoch top1 Acc: 0.904850 Epoch top5 Acc: 0.984653\n",
      "\n",
      "\n"
     ]
    },
    {
     "name": "stderr",
     "output_type": "stream",
     "text": [
      "Epoch 24/29, Split train: 100% 815/815 [06:30<00:00,  2.52it/s]\n"
     ]
    },
    {
     "name": "stdout",
     "output_type": "stream",
     "text": [
      "train Epoch Loss: 0.015700 Epoch top1 Acc: 0.998695 Epoch top5 Acc: 1.000000\n",
      "\n"
     ]
    },
    {
     "name": "stderr",
     "output_type": "stream",
     "text": [
      "Epoch 24/29, Split valid: 100% 102/102 [00:21<00:00,  7.35it/s]\n"
     ]
    },
    {
     "name": "stdout",
     "output_type": "stream",
     "text": [
      "valid Epoch Loss: 0.419348 Epoch top1 Acc: 0.905463 Epoch top5 Acc: 0.987723\n",
      "\n",
      "\n"
     ]
    },
    {
     "name": "stderr",
     "output_type": "stream",
     "text": [
      "Epoch 25/29, Split train: 100% 815/815 [06:31<00:00,  2.37it/s]\n"
     ]
    },
    {
     "name": "stdout",
     "output_type": "stream",
     "text": [
      "train Epoch Loss: 0.015768 Epoch top1 Acc: 0.999079 Epoch top5 Acc: 1.000000\n",
      "\n"
     ]
    },
    {
     "name": "stderr",
     "output_type": "stream",
     "text": [
      "Epoch 25/29, Split valid: 100% 102/102 [00:21<00:00,  7.41it/s]\n"
     ]
    },
    {
     "name": "stdout",
     "output_type": "stream",
     "text": [
      "valid Epoch Loss: 0.420628 Epoch top1 Acc: 0.904236 Epoch top5 Acc: 0.985267\n",
      "\n",
      "\n"
     ]
    },
    {
     "name": "stderr",
     "output_type": "stream",
     "text": [
      "Epoch 26/29, Split train: 100% 815/815 [06:34<00:00,  2.48it/s]\n"
     ]
    },
    {
     "name": "stdout",
     "output_type": "stream",
     "text": [
      "train Epoch Loss: 0.015449 Epoch top1 Acc: 0.998619 Epoch top5 Acc: 1.000000\n",
      "\n"
     ]
    },
    {
     "name": "stderr",
     "output_type": "stream",
     "text": [
      "Epoch 26/29, Split valid: 100% 102/102 [00:21<00:00,  7.53it/s]\n"
     ]
    },
    {
     "name": "stdout",
     "output_type": "stream",
     "text": [
      "valid Epoch Loss: 0.430468 Epoch top1 Acc: 0.904236 Epoch top5 Acc: 0.984039\n",
      "\n",
      "\n"
     ]
    },
    {
     "name": "stderr",
     "output_type": "stream",
     "text": [
      "Epoch 27/29, Split train: 100% 815/815 [06:31<00:00,  2.55it/s]\n"
     ]
    },
    {
     "name": "stdout",
     "output_type": "stream",
     "text": [
      "train Epoch Loss: 0.015464 Epoch top1 Acc: 0.998849 Epoch top5 Acc: 1.000000\n",
      "\n"
     ]
    },
    {
     "name": "stderr",
     "output_type": "stream",
     "text": [
      "Epoch 27/29, Split valid: 100% 102/102 [00:21<00:00,  7.31it/s]\n"
     ]
    },
    {
     "name": "stdout",
     "output_type": "stream",
     "text": [
      "valid Epoch Loss: 0.419241 Epoch top1 Acc: 0.905463 Epoch top5 Acc: 0.985267\n",
      "\n",
      "\n"
     ]
    },
    {
     "name": "stderr",
     "output_type": "stream",
     "text": [
      "Epoch 28/29, Split train: 100% 815/815 [06:32<00:00,  2.50it/s]\n"
     ]
    },
    {
     "name": "stdout",
     "output_type": "stream",
     "text": [
      "train Epoch Loss: 0.015002 Epoch top1 Acc: 0.998926 Epoch top5 Acc: 1.000000\n",
      "\n"
     ]
    },
    {
     "name": "stderr",
     "output_type": "stream",
     "text": [
      "Epoch 28/29, Split valid: 100% 102/102 [00:21<00:00,  7.24it/s]\n"
     ]
    },
    {
     "name": "stdout",
     "output_type": "stream",
     "text": [
      "valid Epoch Loss: 0.427968 Epoch top1 Acc: 0.903008 Epoch top5 Acc: 0.985267\n",
      "\n",
      "\n"
     ]
    },
    {
     "name": "stderr",
     "output_type": "stream",
     "text": [
      "Epoch 29/29, Split train: 100% 815/815 [06:33<00:00,  2.53it/s]\n"
     ]
    },
    {
     "name": "stdout",
     "output_type": "stream",
     "text": [
      "train Epoch Loss: 0.014598 Epoch top1 Acc: 0.999079 Epoch top5 Acc: 1.000000\n",
      "\n"
     ]
    },
    {
     "name": "stderr",
     "output_type": "stream",
     "text": [
      "Epoch 29/29, Split valid: 100% 102/102 [00:21<00:00,  7.39it/s]\n"
     ]
    },
    {
     "name": "stdout",
     "output_type": "stream",
     "text": [
      "valid Epoch Loss: 0.427087 Epoch top1 Acc: 0.903622 Epoch top5 Acc: 0.984653\n",
      "\n",
      "\n",
      "Training complete in 205m 13s\n",
      "Best top1 val Acc: 0.906691\n",
      "Final top5 val Acc: 0.984653\n",
      "Best val model is saved at epoch # 22\n"
     ]
    }
   ],
   "source": [
    "def train_model(dataloaders, model, dataset_sizes, criterion, optimizer, scheduler, num_epochs, save_dir, f):\n",
    "    since = time.time()\n",
    "    \n",
    "    # best_model_wts = copy.deepcopy(model.state_dict())\n",
    "    best_val_top1_acc = 0.0\n",
    "    best_val_epoch = -1 \n",
    "    final_val_top5_acc = 0.0\n",
    "    best_test_top1_acc = 0.0\n",
    "    best_test_epoch = -1\n",
    "    final_test_top5_acc = 0.0 \n",
    "\n",
    "    for epoch in range(num_epochs):  # loop over the dataset multiple times\n",
    "        for phase in ['train', 'valid']:\n",
    "            if phase == 'train':\n",
    "                scheduler.step()\n",
    "                model.train()\n",
    "            else:\n",
    "                model.eval()\n",
    "\n",
    "            running_loss = 0.0\n",
    "            top1_running_corrects = 0\n",
    "            top5_running_corrects = 0\n",
    "\n",
    "            it = tqdm(range(len(dataloaders[phase])), desc=\"Epoch {}/{}, Split {}\".format(epoch, num_epochs - 1, phase), ncols=0)\n",
    "            data_iter = iter(dataloaders[phase])\n",
    "            for niter in it:\n",
    "                inputs, labels = data_iter.next()\n",
    "                inputs = inputs.cuda()\n",
    "                labels = labels.cuda()\n",
    "\n",
    "                optimizer.zero_grad()\n",
    "\n",
    "                with torch.set_grad_enabled(phase == 'train'):\n",
    "                    outputs = model(inputs)\n",
    "                    prec1, prec5 = accuracy(outputs, labels, topk=(1,5))\n",
    "                    loss = criterion(outputs, labels)\n",
    "\n",
    "                    if phase == 'train':\n",
    "                        loss.backward()\n",
    "                        optimizer.step()\n",
    "\n",
    "                training_loss = loss.item()\n",
    "                running_loss += loss.item() * inputs.size(0)\n",
    "                top1_running_corrects += prec1[0]\n",
    "                top5_running_corrects += prec5[0]\n",
    "\n",
    "            epoch_loss = running_loss / dataset_sizes[phase]\n",
    "            top1_epoch_acc = float(top1_running_corrects) / dataset_sizes[phase]\n",
    "            top5_epoch_acc = float(top5_running_corrects) / dataset_sizes[phase]\n",
    "            print('{} Epoch Loss: {:.6f} Epoch top1 Acc: {:.6f} Epoch top5 Acc: {:.6f}\\n'.format(phase, epoch_loss, top1_epoch_acc, top5_epoch_acc))\n",
    "            with open(epoch_trace_f_dir, \"a\") as f:\n",
    "                lr = optimizer.param_groups[0]['lr']\n",
    "                f.write(\"{},{},{},{:e},{:e},{:e}\\n\".format(epoch,phase,lr,epoch_loss,top1_epoch_acc,top5_epoch_acc))\n",
    "\n",
    "            if phase == 'valid' and top1_epoch_acc > best_val_top1_acc:\n",
    "                print(\"Top1 val Acc improve from {:6f} --> {:6f}\".format(best_val_top1_acc, top1_epoch_acc))\n",
    "                best_val_top1_acc = top1_epoch_acc\n",
    "                final_val_top5_acc = top5_epoch_acc\n",
    "                best_val_epoch = epoch\n",
    "                save_f_dir = os.path.join(save_dir, \"best_val_model.ft\")\n",
    "                print(\"Saving best val model into {}...\".format(save_f_dir))\n",
    "                torch.save(model.state_dict(), save_f_dir)\n",
    "\n",
    "\n",
    "        print()\n",
    "\n",
    "    time_elapsed = time.time() - since\n",
    "    print('Training complete in {:.0f}m {:.0f}s'.format(time_elapsed // 60, time_elapsed % 60))\n",
    "    print('Best top1 val Acc: {:6f}'.format(best_val_top1_acc))\n",
    "    print('Final top5 val Acc: {:6f}'.format(final_val_top5_acc))\n",
    "    print('Best val model is saved at epoch # {}'.format(best_val_epoch))\n",
    "\n",
    "\n",
    "\n",
    "if __name__==\"__main__\":\n",
    "\n",
    "    dataloaders, class_names, dataset_sizes = load_data(16, 12)\n",
    "    model= load_model(class_names)\n",
    "\n",
    "    criterion = nn.CrossEntropyLoss()\n",
    "    optimizer = optim.Adagrad(model.parameters(), lr=0.001)\n",
    "    steps = 20\n",
    "    scheduler = lr_scheduler.StepLR(optimizer, step_size=steps, gamma=0.1)\n",
    "    num_epochs = 30\n",
    "\n",
    "    save_dir = './outputs/'\n",
    "    if not os.path.isdir(save_dir):\n",
    "        os.makedirs(save_dir)\n",
    "    epoch_trace_f_dir = os.path.join(save_dir, \"trace.csv\")\n",
    "    with open(epoch_trace_f_dir, \"w\") as f:\n",
    "        f.write(\"epoch,split,lr,loss,top1_acc,top5_acc\\n\")\n",
    "\n",
    "    train_model(dataloaders, model, dataset_sizes, criterion, optimizer, scheduler, num_epochs, save_dir, f)"
   ]
  }
 ],
 "metadata": {
  "kernelspec": {
   "display_name": "Python 3",
   "language": "python",
   "name": "python3"
  },
  "language_info": {
   "codemirror_mode": {
    "name": "ipython",
    "version": 3
   },
   "file_extension": ".py",
   "mimetype": "text/x-python",
   "name": "python",
   "nbconvert_exporter": "python",
   "pygments_lexer": "ipython3",
   "version": "3.6.8"
  }
 },
 "nbformat": 4,
 "nbformat_minor": 2
}
