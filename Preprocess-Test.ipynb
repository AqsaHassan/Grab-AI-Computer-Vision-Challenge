{
 "cells": [
  {
   "cell_type": "markdown",
   "metadata": {},
   "source": [
    "#### Preprocessing for Test data"
   ]
  },
  {
   "cell_type": "code",
   "execution_count": null,
   "metadata": {},
   "outputs": [],
   "source": [
    "# Install in the environment: conda install -c fastai fastai"
   ]
  },
  {
   "cell_type": "code",
   "execution_count": 9,
   "metadata": {},
   "outputs": [],
   "source": [
    "%reload_ext autoreload\n",
    "%autoreload 2\n",
    "%matplotlib inline\n",
    "from fastai.vision import *\n",
    "from fastai.metrics import error_rate\n",
    "from fastai import *\n",
    "import cv2 as cv\n",
    "import numpy as np\n",
    "import pandas as pd\n",
    "import scipy.io as sio"
   ]
  },
  {
   "cell_type": "markdown",
   "metadata": {},
   "source": [
    "#### Put car_test.tgz and car_devkit.tgz in the same folder with this ipynb file together"
   ]
  },
  {
   "cell_type": "code",
   "execution_count": 10,
   "metadata": {},
   "outputs": [],
   "source": [
    "# This preprocessing portion of the code is provided by foamliu on his github repo\n",
    "# https://github.com/foamliu/Car-Recognition/blob/master/pre-process.py\n",
    "\n",
    "import tarfile\n",
    "import scipy.io\n",
    "import numpy as np\n",
    "import os\n",
    "import cv2 as cv\n",
    "import shutil\n",
    "import random\n",
    "from console_progressbar import ProgressBar\n",
    "\n",
    "\n",
    "def ensure_folder(folder):\n",
    "    if not os.path.exists(folder):\n",
    "        os.makedirs(folder)\n",
    "        \n",
    "def save_test_data(fnames, labels, bboxes):\n",
    "    src_folder = 'cars_test/'\n",
    "    dst_folder = 'data/test'\n",
    "    num_samples = len(fnames)\n",
    "\n",
    "    pb = ProgressBar(total=100, prefix='Save test data', suffix='', decimals=3, length=50, fill='=')\n",
    "\n",
    "    for i in range(num_samples):\n",
    "        fname = fnames[i]\n",
    "        label = labels[i]\n",
    "\n",
    "        (x1, y1, x2, y2) = bboxes[i]\n",
    "        src_path = os.path.join(src_folder, fname)\n",
    "\n",
    "        src_image = cv.imread(src_path)\n",
    "        height, width = src_image.shape[:2]\n",
    "        # margins of 16 pixels\n",
    "        margin = 16\n",
    "        x1 = max(0, x1 - margin)\n",
    "        y1 = max(0, y1 - margin)\n",
    "        x2 = min(x2 + margin, width)\n",
    "        y2 = min(y2 + margin, height)\n",
    "        pb.print_progress_bar((i + 1) * 100 / num_samples)\n",
    "\n",
    "        \n",
    "        dst_path = os.path.join(dst_folder, label)\n",
    "        if not os.path.exists(dst_path):\n",
    "            os.makedirs(dst_path)\n",
    "        dst_path = os.path.join(dst_path, fname)\n",
    "        \n",
    "        \n",
    "        crop_image = src_image[y1:y2, x1:x2]\n",
    "        dst_img = cv.resize(src=crop_image, dsize=(img_height, img_width))\n",
    "        cv.imwrite(dst_path, dst_img)\n",
    "    \n"
   ]
  },
  {
   "cell_type": "code",
   "execution_count": 11,
   "metadata": {},
   "outputs": [],
   "source": [
    "def process_test_data():\n",
    "    print(\"Processing test data...\")\n",
    "    cars_annos = scipy.io.loadmat('devkit/cars_test_annos_withlabels.mat')\n",
    "    annotations = cars_annos['annotations']\n",
    "    annotations = np.transpose(annotations)\n",
    "\n",
    "    fnames = []\n",
    "    class_ids = []\n",
    "    bboxes = []\n",
    "    labels = []\n",
    "\n",
    "    for annotation in annotations:\n",
    "        bbox_x1 = annotation[0][0][0][0]\n",
    "        bbox_y1 = annotation[0][1][0][0]\n",
    "        bbox_x2 = annotation[0][2][0][0]\n",
    "        bbox_y2 = annotation[0][3][0][0]\n",
    "        class_id = annotation[0][4][0][0]\n",
    "        labels.append('%04d' % (class_id,))\n",
    "        fname = annotation[0][5][0]\n",
    "        bboxes.append((bbox_x1, bbox_y1, bbox_x2, bbox_y2))\n",
    "        class_ids.append(class_id)\n",
    "        fnames.append(fname)\n",
    "\n",
    "    labels_count = np.unique(class_ids).shape[0]\n",
    "    print(np.unique(class_ids))\n",
    "    print('The number of different cars is %d' % labels_count)\n",
    "\n",
    "    save_test_data(fnames, labels, bboxes)"
   ]
  },
  {
   "cell_type": "code",
   "execution_count": 12,
   "metadata": {
    "scrolled": true
   },
   "outputs": [
    {
     "name": "stdout",
     "output_type": "stream",
     "text": [
      "Extracting cars_test.tgz...\n",
      "class_names.shape: (196, 1)\n",
      "Sample class_name: [Aston Martin V8 Vantage Coupe 2012]\n",
      "Processing test data...\n",
      "[  1   2   3   4 ... 193 194 195 196]\n",
      "The number of different cars is 196\n",
      "Save test data |==================================================| 100.000% \n"
     ]
    }
   ],
   "source": [
    "if __name__ == '__main__':\n",
    "    # parameters\n",
    "    img_width, img_height = 224, 224\n",
    "\n",
    "\n",
    "    print('Extracting cars_test.tgz...')\n",
    "    if not os.path.exists('cars_test'):\n",
    "        with tarfile.open('cars_test.tgz', \"r:gz\") as tar:\n",
    "            tar.extractall()\n",
    "\n",
    "    cars_meta = scipy.io.loadmat('devkit/cars_meta')\n",
    "    class_names = cars_meta['class_names']  # shape=(1, 196)\n",
    "    class_names = np.transpose(class_names)\n",
    "    print('class_names.shape: ' + str(class_names.shape))\n",
    "    print('Sample class_name: [{}]'.format(class_names[8][0][0]))\n",
    "\n",
    "    ensure_folder('data/test')\n",
    "\n",
    "    process_test_data()"
   ]
  },
  {
   "cell_type": "code",
   "execution_count": 13,
   "metadata": {},
   "outputs": [],
   "source": [
    "#Replace / and \\ expressions not to consider as different directory while renaming folders\n",
    "import re\n",
    "class_name = []\n",
    "for names in class_names:\n",
    "    class_name.append(re.sub(\"/\",\"\",str(names[0][0])))"
   ]
  },
  {
   "cell_type": "code",
   "execution_count": 14,
   "metadata": {},
   "outputs": [],
   "source": [
    "#Rename for train_data\n",
    "basedir = 'C:\\\\Users\\\\Orkhan\\\\Desktop\\\\Grab_github\\\\data\\\\test'\n",
    "for (i, name) in zip(os.listdir(basedir), class_name):\n",
    "    os.rename(os.path.join(basedir, i), os.path.join(basedir, str(i) + \" \" + str(name)))"
   ]
  }
 ],
 "metadata": {
  "kernelspec": {
   "display_name": "Python 3",
   "language": "python",
   "name": "python3"
  },
  "language_info": {
   "codemirror_mode": {
    "name": "ipython",
    "version": 3
   },
   "file_extension": ".py",
   "mimetype": "text/x-python",
   "name": "python",
   "nbconvert_exporter": "python",
   "pygments_lexer": "ipython3",
   "version": "3.6.8"
  }
 },
 "nbformat": 4,
 "nbformat_minor": 2
}
